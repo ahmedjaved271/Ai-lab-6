{
  "nbformat": 4,
  "nbformat_minor": 0,
  "metadata": {
    "colab": {
      "provenance": []
    },
    "kernelspec": {
      "name": "python3",
      "display_name": "Python 3"
    },
    "language_info": {
      "name": "python"
    }
  },
  "cells": [
    {
      "cell_type": "code",
      "execution_count": 1,
      "metadata": {
        "colab": {
          "base_uri": "https://localhost:8080/"
        },
        "id": "D-yopD-ix7hv",
        "outputId": "c0864960-5137-4009-a3b7-7b9908950352"
      },
      "outputs": [
        {
          "output_type": "stream",
          "name": "stdout",
          "text": [
            "BFS without Queue:\n",
            "1 \n",
            "2 3 \n",
            "4 5 6 7 \n"
          ]
        }
      ],
      "source": [
        "# Task 1: BFS Without Using Queue\n",
        "def bfs_recursive(root):\n",
        "    def height(node):\n",
        "        if not node:\n",
        "            return 0\n",
        "        return max(height(node.left), height(node.right)) + 1\n",
        "\n",
        "    def print_level(node, level):\n",
        "        if not node:\n",
        "            return\n",
        "        if level == 1:\n",
        "            print(node.value, end=\" \")\n",
        "        elif level > 1:\n",
        "            print_level(node.left, level - 1)\n",
        "            print_level(node.right, level - 1)\n",
        "\n",
        "    h = height(root)\n",
        "    for i in range(1, h + 1):\n",
        "        print_level(root, i)\n",
        "        print()\n",
        "\n",
        "class Node:\n",
        "    def __init__(self, value):\n",
        "        self.value = value\n",
        "        self.left = None\n",
        "        self.right = None\n",
        "\n",
        "\n",
        "root = Node(1)\n",
        "root.left = Node(2)\n",
        "root.right = Node(3)\n",
        "root.left.left = Node(4)\n",
        "root.left.right = Node(5)\n",
        "root.right.left = Node(6)\n",
        "root.right.right = Node(7)\n",
        "\n",
        "print(\"BFS without Queue:\")\n",
        "bfs_recursive(root)\n"
      ]
    },
    {
      "cell_type": "code",
      "source": [
        "# Task 2: BFS Using a Queue and Node\n",
        "from collections import deque\n",
        "\n",
        "def bfs_with_queue(root):\n",
        "    if not root:\n",
        "        return\n",
        "    queue = deque([root])\n",
        "\n",
        "    while queue:\n",
        "        current = queue.popleft()\n",
        "        print(current.value, end=\" \")\n",
        "\n",
        "        if current.left:\n",
        "            queue.append(current.left)\n",
        "        if current.right:\n",
        "            queue.append(current.right)\n",
        "\n",
        "\n",
        "root = Node(1)\n",
        "root.left = Node(2)\n",
        "root.right = Node(3)\n",
        "root.left.left = Node(4)\n",
        "root.left.right = Node(5)\n",
        "root.right.left = Node(6)\n",
        "root.right.right = Node(7)\n",
        "\n",
        "print(\"\\nBFS with Queue:\")\n",
        "bfs_with_queue(root)\n"
      ],
      "metadata": {
        "colab": {
          "base_uri": "https://localhost:8080/"
        },
        "id": "2aeZTm0R35e5",
        "outputId": "d662e2ad-052c-4080-c833-48463cd7a42d"
      },
      "execution_count": 2,
      "outputs": [
        {
          "output_type": "stream",
          "name": "stdout",
          "text": [
            "\n",
            "BFS with Queue:\n",
            "1 2 3 4 5 6 7 "
          ]
        }
      ]
    },
    {
      "cell_type": "code",
      "source": [],
      "metadata": {
        "id": "d55SZvip4OKy"
      },
      "execution_count": null,
      "outputs": []
    }
  ]
}